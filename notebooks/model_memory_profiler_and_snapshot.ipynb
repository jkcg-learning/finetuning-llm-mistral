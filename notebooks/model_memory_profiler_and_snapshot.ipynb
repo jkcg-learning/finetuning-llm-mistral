{
 "cells": [
  {
   "cell_type": "code",
   "execution_count": 1,
   "id": "a9a44485-efef-45c0-8c8d-9abbc83d4e26",
   "metadata": {
    "id": "a9a44485-efef-45c0-8c8d-9abbc83d4e26",
    "outputId": "7a9aae00-4e9c-4ca4-94c1-95b5b7025470"
   },
   "outputs": [
    {
     "name": "stdout",
     "output_type": "stream",
     "text": [
      "Mon Apr  8 14:42:29 2024       \n",
      "+---------------------------------------------------------------------------------------+\n",
      "| NVIDIA-SMI 530.30.02              Driver Version: 530.30.02    CUDA Version: 12.1     |\n",
      "|-----------------------------------------+----------------------+----------------------+\n",
      "| GPU  Name                  Persistence-M| Bus-Id        Disp.A | Volatile Uncorr. ECC |\n",
      "| Fan  Temp  Perf            Pwr:Usage/Cap|         Memory-Usage | GPU-Util  Compute M. |\n",
      "|                                         |                      |               MIG M. |\n",
      "|=========================================+======================+======================|\n",
      "|   0  NVIDIA A40                      On | 00000000:00:08.0 Off |                  Off |\n",
      "|  0%   43C    P0               74W / 300W|  15211MiB / 49140MiB |      0%      Default |\n",
      "|                                         |                      |                  N/A |\n",
      "+-----------------------------------------+----------------------+----------------------+\n",
      "                                                                                         \n",
      "+---------------------------------------------------------------------------------------+\n",
      "| Processes:                                                                            |\n",
      "|  GPU   GI   CI        PID   Type   Process name                            GPU Memory |\n",
      "|        ID   ID                                                             Usage      |\n",
      "|=======================================================================================|\n",
      "+---------------------------------------------------------------------------------------+\n"
     ]
    }
   ],
   "source": [
    "! nvidia-smi"
   ]
  },
  {
   "cell_type": "code",
   "execution_count": 2,
   "id": "e7b16626-54ac-440b-86fb-8b61007184dd",
   "metadata": {
    "id": "e7b16626-54ac-440b-86fb-8b61007184dd"
   },
   "outputs": [],
   "source": [
    "from pynvml import *\n",
    "\n",
    "\n",
    "def print_gpu_utilization():\n",
    "    nvmlInit()\n",
    "    handle = nvmlDeviceGetHandleByIndex(0)\n",
    "    info = nvmlDeviceGetMemoryInfo(handle)\n",
    "    print(f\"GPU memory occupied: {info.used//1024**2} MB.\")\n",
    "\n",
    "\n",
    "def print_summary(result):\n",
    "    print(f\"Time: {result.metrics['train_runtime']:.2f}\")\n",
    "    print(f\"Samples/second: {result.metrics['train_samples_per_second']:.2f}\")\n",
    "    print_gpu_utilization()"
   ]
  },
  {
   "cell_type": "code",
   "execution_count": 3,
   "id": "fd3e3609-0da1-40e2-8906-b8614805dde9",
   "metadata": {
    "id": "fd3e3609-0da1-40e2-8906-b8614805dde9",
    "outputId": "877b9d60-17dc-4898-eedb-ce8bd7bd5a8b"
   },
   "outputs": [
    {
     "name": "stdout",
     "output_type": "stream",
     "text": [
      "GPU memory occupied: 15834 MB.\n"
     ]
    }
   ],
   "source": [
    "print_gpu_utilization()"
   ]
  },
  {
   "cell_type": "code",
   "execution_count": 4,
   "id": "540b836a-17cb-4dc0-83a3-755d63cbf1d5",
   "metadata": {
    "id": "540b836a-17cb-4dc0-83a3-755d63cbf1d5"
   },
   "outputs": [],
   "source": [
    "import torch"
   ]
  },
  {
   "cell_type": "code",
   "execution_count": 5,
   "id": "c99864ab-4649-481a-a48d-6f2fbc322f80",
   "metadata": {
    "id": "c99864ab-4649-481a-a48d-6f2fbc322f80",
    "outputId": "ac04a1fb-9c9d-40f0-88e8-363a336ba88d"
   },
   "outputs": [
    {
     "name": "stdout",
     "output_type": "stream",
     "text": [
      "GPU memory occupied: 15834 MB.\n"
     ]
    }
   ],
   "source": [
    "print_gpu_utilization()"
   ]
  },
  {
   "cell_type": "markdown",
   "id": "f1e67097-20e2-4b75-b7b2-dee3aae59d17",
   "metadata": {
    "id": "f1e67097-20e2-4b75-b7b2-dee3aae59d17"
   },
   "source": [
    "Creating a simple 1x1 tensor"
   ]
  },
  {
   "cell_type": "code",
   "execution_count": 6,
   "id": "b3ddd71d-4e42-4f04-897a-3e6ae9172e08",
   "metadata": {
    "id": "b3ddd71d-4e42-4f04-897a-3e6ae9172e08",
    "outputId": "185cd643-0c5c-4e89-8255-6fc237b72e12"
   },
   "outputs": [
    {
     "data": {
      "text/plain": [
       "tensor([[1.]], device='cuda:0')"
      ]
     },
     "execution_count": 6,
     "metadata": {},
     "output_type": "execute_result"
    }
   ],
   "source": [
    "torch.ones((1, 1)).to(\"cuda\")"
   ]
  },
  {
   "cell_type": "code",
   "execution_count": 7,
   "id": "0cc7a899-4059-4fd0-bd05-fa44b3f60775",
   "metadata": {
    "id": "0cc7a899-4059-4fd0-bd05-fa44b3f60775",
    "outputId": "22e3f5ac-cbbc-46dd-a92b-50b9537714b0"
   },
   "outputs": [
    {
     "name": "stdout",
     "output_type": "stream",
     "text": [
      "GPU memory occupied: 16140 MB.\n"
     ]
    }
   ],
   "source": [
    "print_gpu_utilization()"
   ]
  },
  {
   "cell_type": "code",
   "execution_count": 8,
   "id": "e1554323-9df1-492a-a231-7d78d62faeee",
   "metadata": {
    "id": "e1554323-9df1-492a-a231-7d78d62faeee"
   },
   "outputs": [],
   "source": [
    "from transformers import AutoModelForCausalLM, AutoTokenizer\n",
    "import logging\n",
    "import torch\n",
    "import socket\n",
    "from datetime import datetime, timedelta"
   ]
  },
  {
   "cell_type": "code",
   "execution_count": 9,
   "id": "772fce5f-3d15-490c-bf7f-aa3b3e0111e2",
   "metadata": {
    "id": "772fce5f-3d15-490c-bf7f-aa3b3e0111e2"
   },
   "outputs": [],
   "source": [
    "from pynvml import *\n",
    "\n",
    "\n",
    "def print_gpu_utilization():\n",
    "    nvmlInit()\n",
    "    handle = nvmlDeviceGetHandleByIndex(0)\n",
    "    info = nvmlDeviceGetMemoryInfo(handle)\n",
    "    print(f\"GPU memory occupied: {info.used//1024**2} MB.\")\n",
    "\n",
    "\n",
    "def print_summary(result):\n",
    "    print(f\"Time: {result.metrics['train_runtime']:.2f}\")\n",
    "    print(f\"Samples/second: {result.metrics['train_samples_per_second']:.2f}\")\n",
    "    print_gpu_utilization()"
   ]
  },
  {
   "cell_type": "code",
   "execution_count": 10,
   "id": "dd823006-a093-419a-afdf-4bbe27aaaf62",
   "metadata": {
    "id": "dd823006-a093-419a-afdf-4bbe27aaaf62",
    "outputId": "7bedbc99-b2a8-45fe-e40f-f86cfd8f0c76"
   },
   "outputs": [
    {
     "name": "stdout",
     "output_type": "stream",
     "text": [
      "GPU memory occupied: 16140 MB.\n"
     ]
    }
   ],
   "source": [
    "print_gpu_utilization()"
   ]
  },
  {
   "cell_type": "code",
   "execution_count": 11,
   "id": "f4a61ce8-8a87-4553-b18a-ecf916448d21",
   "metadata": {
    "id": "f4a61ce8-8a87-4553-b18a-ecf916448d21"
   },
   "outputs": [],
   "source": [
    "TIME_FORMAT_STR: str = \"%b_%d_%H_%M_%S\"\n",
    "\n",
    "# Keep a max of 100,000 alloc/free events in the recorded history\n",
    "# leading up to the snapshot.\n",
    "MAX_NUM_OF_MEM_EVENTS_PER_SNAPSHOT: int = 100000"
   ]
  },
  {
   "cell_type": "code",
   "execution_count": 12,
   "id": "4f6c85d2-252e-4a97-8b09-532e1b1a7b4b",
   "metadata": {
    "id": "4f6c85d2-252e-4a97-8b09-532e1b1a7b4b"
   },
   "outputs": [],
   "source": [
    "logging.basicConfig(\n",
    "   format=\"%(levelname)s:%(asctime)s %(message)s\",\n",
    "   level=logging.INFO,\n",
    "   datefmt=\"%Y-%m-%d %H:%M:%S\",\n",
    ")\n",
    "logger: logging.Logger = logging.getLogger(__name__)\n",
    "logger.setLevel(level=logging.INFO)"
   ]
  },
  {
   "cell_type": "code",
   "execution_count": 13,
   "id": "d80db43c-e733-45c0-8515-8c244327f818",
   "metadata": {
    "id": "d80db43c-e733-45c0-8515-8c244327f818"
   },
   "outputs": [],
   "source": [
    "def start_record_memory_history() -> None:\n",
    "   if not torch.cuda.is_available():\n",
    "       logger.info(\"CUDA unavailable. Not recording memory history\")\n",
    "       return\n",
    "\n",
    "   logger.info(\"Starting snapshot record_memory_history\")\n",
    "   torch.cuda.memory._record_memory_history(\n",
    "       max_entries=MAX_NUM_OF_MEM_EVENTS_PER_SNAPSHOT\n",
    "   )\n",
    "\n",
    "def stop_record_memory_history() -> None:\n",
    "   if not torch.cuda.is_available():\n",
    "       logger.info(\"CUDA unavailable. Not recording memory history\")\n",
    "       return\n",
    "\n",
    "   logger.info(\"Stopping snapshot record_memory_history\")\n",
    "   torch.cuda.memory._record_memory_history(enabled=None)\n",
    "\n",
    "def export_memory_snapshot() -> None:\n",
    "   if not torch.cuda.is_available():\n",
    "       logger.info(\"CUDA unavailable. Not exporting memory snapshot\")\n",
    "       return\n",
    "\n",
    "   # Prefix for file names.\n",
    "   host_name = socket.gethostname()\n",
    "   timestamp = datetime.now().strftime(TIME_FORMAT_STR)\n",
    "   file_prefix = f\"{host_name}_{timestamp}\"\n",
    "\n",
    "   try:\n",
    "       logger.info(f\"Saving snapshot to local file: {file_prefix}.pickle\")\n",
    "       torch.cuda.memory._dump_snapshot(f\"{file_prefix}.pickle\")\n",
    "   except Exception as e:\n",
    "       logger.error(f\"Failed to capture memory snapshot {e}\")\n",
    "       return"
   ]
  },
  {
   "cell_type": "code",
   "execution_count": 14,
   "id": "a373d436-ed2b-4620-922a-87972acca2b2",
   "metadata": {
    "id": "a373d436-ed2b-4620-922a-87972acca2b2",
    "outputId": "c9d53cdb-e53f-4260-c0cf-5582a8734d3e"
   },
   "outputs": [
    {
     "name": "stderr",
     "output_type": "stream",
     "text": [
      "INFO:2024-04-08 14:42:33 We will use 90% of the memory on device 0 for storing the model, and 10% for the buffer to avoid OOM. You can set `max_memory` in to a higher value to use more memory (at your own risk).\n"
     ]
    }
   ],
   "source": [
    "model = AutoModelForCausalLM.from_pretrained(\n",
    "    \"EleutherAI/pythia-1b\",\n",
    "    device_map=\"auto\"\n",
    ")"
   ]
  },
  {
   "cell_type": "code",
   "execution_count": 15,
   "id": "106926f5-7473-4147-9842-45a00e92baaa",
   "metadata": {
    "id": "106926f5-7473-4147-9842-45a00e92baaa",
    "outputId": "a5bb6f77-34f1-4edb-9bb4-c2a07be375ba"
   },
   "outputs": [
    {
     "data": {
      "text/plain": [
       "GPTNeoXForCausalLM(\n",
       "  (gpt_neox): GPTNeoXModel(\n",
       "    (embed_in): Embedding(50304, 2048)\n",
       "    (emb_dropout): Dropout(p=0.0, inplace=False)\n",
       "    (layers): ModuleList(\n",
       "      (0-15): 16 x GPTNeoXLayer(\n",
       "        (input_layernorm): LayerNorm((2048,), eps=1e-05, elementwise_affine=True)\n",
       "        (post_attention_layernorm): LayerNorm((2048,), eps=1e-05, elementwise_affine=True)\n",
       "        (post_attention_dropout): Dropout(p=0.0, inplace=False)\n",
       "        (post_mlp_dropout): Dropout(p=0.0, inplace=False)\n",
       "        (attention): GPTNeoXAttention(\n",
       "          (rotary_emb): GPTNeoXRotaryEmbedding()\n",
       "          (query_key_value): Linear(in_features=2048, out_features=6144, bias=True)\n",
       "          (dense): Linear(in_features=2048, out_features=2048, bias=True)\n",
       "          (attention_dropout): Dropout(p=0.0, inplace=False)\n",
       "        )\n",
       "        (mlp): GPTNeoXMLP(\n",
       "          (dense_h_to_4h): Linear(in_features=2048, out_features=8192, bias=True)\n",
       "          (dense_4h_to_h): Linear(in_features=8192, out_features=2048, bias=True)\n",
       "          (act): GELUActivation()\n",
       "        )\n",
       "      )\n",
       "    )\n",
       "    (final_layer_norm): LayerNorm((2048,), eps=1e-05, elementwise_affine=True)\n",
       "  )\n",
       "  (embed_out): Linear(in_features=2048, out_features=50304, bias=False)\n",
       ")"
      ]
     },
     "execution_count": 15,
     "metadata": {},
     "output_type": "execute_result"
    }
   ],
   "source": [
    "model"
   ]
  },
  {
   "cell_type": "code",
   "execution_count": 16,
   "id": "ec512144-2530-48fd-8d5f-0fd0573eb59b",
   "metadata": {
    "id": "ec512144-2530-48fd-8d5f-0fd0573eb59b",
    "outputId": "b031cd35-4319-4c2f-da95-8d06d07105ce"
   },
   "outputs": [
    {
     "data": {
      "text/plain": [
       "8"
      ]
     },
     "execution_count": 16,
     "metadata": {},
     "output_type": "execute_result"
    }
   ],
   "source": [
    "model.gpt_neox.layers[0].attention.num_attention_heads"
   ]
  },
  {
   "cell_type": "code",
   "execution_count": 17,
   "id": "105fb3a5-1e5c-41c1-8e2b-a2b8832505fe",
   "metadata": {
    "id": "105fb3a5-1e5c-41c1-8e2b-a2b8832505fe",
    "outputId": "f5e225f7-8e73-46c9-b644-3c1d49eb3efb"
   },
   "outputs": [
    {
     "name": "stdout",
     "output_type": "stream",
     "text": [
      "GPU memory occupied: 20096 MB.\n"
     ]
    }
   ],
   "source": [
    "print_gpu_utilization()"
   ]
  },
  {
   "cell_type": "markdown",
   "id": "31499121-7d2d-4fdb-9d07-879ed5c01c49",
   "metadata": {
    "id": "31499121-7d2d-4fdb-9d07-879ed5c01c49"
   },
   "source": [
    "This model should approx take up 3,814.697265625 MB"
   ]
  },
  {
   "cell_type": "code",
   "execution_count": 18,
   "id": "bf9e3082-9eac-4587-becd-6eb3ef8ef493",
   "metadata": {
    "id": "bf9e3082-9eac-4587-becd-6eb3ef8ef493",
    "outputId": "149d3b36-2b22-47d9-a227-56628cffc602"
   },
   "outputs": [
    {
     "data": {
      "text/plain": [
       "3939.6426391601562"
      ]
     },
     "execution_count": 18,
     "metadata": {},
     "output_type": "execute_result"
    }
   ],
   "source": [
    "model.get_memory_footprint() / 1024 / 1024"
   ]
  },
  {
   "cell_type": "markdown",
   "id": "c0b93173-4f44-4f64-954a-d2555c8b9bc3",
   "metadata": {
    "id": "c0b93173-4f44-4f64-954a-d2555c8b9bc3"
   },
   "source": [
    "the rest 700-800 MB are just CUDA Kernels and other PyTorch related kernels loaded to GPU memory!"
   ]
  },
  {
   "cell_type": "markdown",
   "id": "472fcd84-8ca9-45c5-8d04-a5189e6cc2f8",
   "metadata": {
    "id": "472fcd84-8ca9-45c5-8d04-a5189e6cc2f8",
    "tags": []
   },
   "source": [
    "Dummy Dataset"
   ]
  },
  {
   "cell_type": "code",
   "execution_count": 19,
   "id": "8115f648-5976-4210-8a38-e4bfb9315455",
   "metadata": {
    "id": "8115f648-5976-4210-8a38-e4bfb9315455",
    "outputId": "751fae52-8305-45ae-de82-c72d812b053b",
    "tags": []
   },
   "outputs": [
    {
     "name": "stderr",
     "output_type": "stream",
     "text": [
      "INFO:2024-04-08 14:42:35 PyTorch version 2.1.0+cu118 available.\n"
     ]
    }
   ],
   "source": [
    "import numpy as np\n",
    "from datasets import Dataset\n",
    "\n",
    "\n",
    "seq_len, dataset_size = 128, 128\n",
    "dummy_data = {\n",
    "    \"input_ids\": np.random.randint(1, 30000, (dataset_size, seq_len)),\n",
    "    \"labels\": np.random.randint(1, 30000, (dataset_size, seq_len)),\n",
    "}\n",
    "ds = Dataset.from_dict(dummy_data)\n",
    "ds.set_format(\"pt\")"
   ]
  },
  {
   "cell_type": "code",
   "execution_count": 20,
   "id": "9cde479e-dacd-4d4b-8232-9c9ed1476a1c",
   "metadata": {
    "id": "9cde479e-dacd-4d4b-8232-9c9ed1476a1c"
   },
   "outputs": [],
   "source": [
    "default_args = {\n",
    "    \"output_dir\": \"tmp\",\n",
    "    \"evaluation_strategy\": \"steps\",\n",
    "    \"num_train_epochs\": 1,\n",
    "    \"log_level\": \"error\",\n",
    "    \"report_to\": \"none\",\n",
    "    \"dataloader_pin_memory\": False,\n",
    "    \"optim\": \"adamw_torch\"\n",
    "}"
   ]
  },
  {
   "cell_type": "markdown",
   "id": "35741b93-74bc-45dc-b5f4-89d5b778dac1",
   "metadata": {
    "id": "35741b93-74bc-45dc-b5f4-89d5b778dac1"
   },
   "source": [
    "Optimizer Supported: https://github.com/huggingface/transformers/blob/main/src/transformers/training_args.py#L133"
   ]
  },
  {
   "cell_type": "code",
   "execution_count": 21,
   "id": "76428dc1-3b1d-49f6-b03d-fb9bed27881a",
   "metadata": {
    "id": "76428dc1-3b1d-49f6-b03d-fb9bed27881a",
    "outputId": "386e234d-b4e7-43e9-ca35-2e2cd04483e2"
   },
   "outputs": [
    {
     "data": {
      "text/plain": [
       "GPTNeoXForCausalLM(\n",
       "  (gpt_neox): GPTNeoXModel(\n",
       "    (embed_in): Embedding(50304, 2048)\n",
       "    (emb_dropout): Dropout(p=0.0, inplace=False)\n",
       "    (layers): ModuleList(\n",
       "      (0-15): 16 x GPTNeoXLayer(\n",
       "        (input_layernorm): LayerNorm((2048,), eps=1e-05, elementwise_affine=True)\n",
       "        (post_attention_layernorm): LayerNorm((2048,), eps=1e-05, elementwise_affine=True)\n",
       "        (post_attention_dropout): Dropout(p=0.0, inplace=False)\n",
       "        (post_mlp_dropout): Dropout(p=0.0, inplace=False)\n",
       "        (attention): GPTNeoXAttention(\n",
       "          (rotary_emb): GPTNeoXRotaryEmbedding()\n",
       "          (query_key_value): Linear(in_features=2048, out_features=6144, bias=True)\n",
       "          (dense): Linear(in_features=2048, out_features=2048, bias=True)\n",
       "          (attention_dropout): Dropout(p=0.0, inplace=False)\n",
       "        )\n",
       "        (mlp): GPTNeoXMLP(\n",
       "          (dense_h_to_4h): Linear(in_features=2048, out_features=8192, bias=True)\n",
       "          (dense_4h_to_h): Linear(in_features=8192, out_features=2048, bias=True)\n",
       "          (act): GELUActivation()\n",
       "        )\n",
       "      )\n",
       "    )\n",
       "    (final_layer_norm): LayerNorm((2048,), eps=1e-05, elementwise_affine=True)\n",
       "  )\n",
       "  (embed_out): Linear(in_features=2048, out_features=50304, bias=False)\n",
       ")"
      ]
     },
     "execution_count": 21,
     "metadata": {},
     "output_type": "execute_result"
    }
   ],
   "source": [
    "model.train()"
   ]
  },
  {
   "cell_type": "code",
   "execution_count": 22,
   "id": "d526c2ed-66cb-4c02-8ad9-60b722b66519",
   "metadata": {
    "id": "d526c2ed-66cb-4c02-8ad9-60b722b66519"
   },
   "outputs": [],
   "source": [
    "def print_trainable_parameters(model):\n",
    "    \"\"\"\n",
    "    Prints the number of trainable parameters in the model.\n",
    "    \"\"\"\n",
    "    trainable_params = 0\n",
    "    all_param = 0\n",
    "    for _, param in model.named_parameters():\n",
    "        all_param += param.numel()\n",
    "        if param.requires_grad:\n",
    "            trainable_params += param.numel()\n",
    "    print(\n",
    "        f\"trainable params: {trainable_params} || all params: {all_param} || trainable%: {100 * trainable_params / all_param}\"\n",
    "    )"
   ]
  },
  {
   "cell_type": "code",
   "execution_count": 23,
   "id": "3fc4f9ed-4217-4896-b19d-df4247e9fbe2",
   "metadata": {
    "id": "3fc4f9ed-4217-4896-b19d-df4247e9fbe2",
    "outputId": "a3c1c156-4040-4865-c709-1351e151458a"
   },
   "outputs": [
    {
     "name": "stdout",
     "output_type": "stream",
     "text": [
      "trainable params: 1011781632 || all params: 1011781632 || trainable%: 100.0\n"
     ]
    }
   ],
   "source": [
    "print_trainable_parameters(model)"
   ]
  },
  {
   "cell_type": "code",
   "execution_count": 24,
   "id": "5aad52e7-e0bc-44f1-9ba1-5d0b59fd630a",
   "metadata": {
    "id": "5aad52e7-e0bc-44f1-9ba1-5d0b59fd630a",
    "outputId": "47f4b9a4-ee9e-4ad5-9773-c7ca3fbfe44b"
   },
   "outputs": [
    {
     "name": "stderr",
     "output_type": "stream",
     "text": [
      "/usr/local/lib/python3.10/dist-packages/accelerate/accelerator.py:436: FutureWarning: Passing the following arguments to `Accelerator` is deprecated and will be removed in version 1.0 of Accelerate: dict_keys(['dispatch_batches', 'split_batches', 'even_batches', 'use_seedable_sampler']). Please pass an `accelerate.DataLoaderConfiguration` instead: \n",
      "dataloader_config = DataLoaderConfiguration(dispatch_batches=None, split_batches=False, even_batches=True, use_seedable_sampler=True)\n",
      "  warnings.warn(\n",
      "WARNING:2024-04-08 14:42:35 Detected kernel version 5.4.0, which is below the recommended minimum of 5.5.0; this can cause the process to hang. It is recommended to upgrade the kernel to the minimum version or higher.\n",
      "INFO:2024-04-08 14:42:35 Starting snapshot record_memory_history\n"
     ]
    },
    {
     "data": {
      "text/html": [
       "\n",
       "    <div>\n",
       "      \n",
       "      <progress value='6' max='6' style='width:300px; height:20px; vertical-align: middle;'></progress>\n",
       "      [6/6 00:04, Epoch 1/1]\n",
       "    </div>\n",
       "    <table border=\"1\" class=\"dataframe\">\n",
       "  <thead>\n",
       " <tr style=\"text-align: left;\">\n",
       "      <th>Step</th>\n",
       "      <th>Training Loss</th>\n",
       "      <th>Validation Loss</th>\n",
       "    </tr>\n",
       "  </thead>\n",
       "  <tbody>\n",
       "  </tbody>\n",
       "</table><p>"
      ],
      "text/plain": [
       "<IPython.core.display.HTML object>"
      ]
     },
     "metadata": {},
     "output_type": "display_data"
    },
    {
     "name": "stderr",
     "output_type": "stream",
     "text": [
      "INFO:2024-04-08 14:42:41 Saving snapshot to local file: 970442700e99_Apr_08_14_42_41.pickle\n",
      "INFO:2024-04-08 14:42:43 Stopping snapshot record_memory_history\n"
     ]
    },
    {
     "name": "stdout",
     "output_type": "stream",
     "text": [
      "Time: 5.67\n",
      "Samples/second: 22.58\n",
      "GPU memory occupied: 40974 MB.\n"
     ]
    }
   ],
   "source": [
    "from transformers import TrainingArguments, Trainer\n",
    "\n",
    "# logging.set_verbosity_error()\n",
    "\n",
    "\n",
    "training_args = TrainingArguments(per_device_train_batch_size=24, fp16=False, **default_args)\n",
    "trainer = Trainer(model=model, args=training_args, train_dataset=ds)\n",
    "start_record_memory_history()\n",
    "result = trainer.train()\n",
    "export_memory_snapshot()\n",
    "stop_record_memory_history()\n",
    "print_summary(result)"
   ]
  },
  {
   "cell_type": "code",
   "execution_count": 25,
   "id": "628204af-0594-43c8-b7c3-fee0419b2a09",
   "metadata": {
    "id": "628204af-0594-43c8-b7c3-fee0419b2a09"
   },
   "outputs": [
    {
     "name": "stdout",
     "output_type": "stream",
     "text": [
      "11681.18798828125\n"
     ]
    }
   ],
   "source": [
    "torch.cuda.empty_cache()\n",
    "print(torch.cuda.memory_allocated() / 1024 / 1024)"
   ]
  },
  {
   "cell_type": "markdown",
   "id": "6058966f-d9d0-406b-9cea-34fc282db31b",
   "metadata": {
    "id": "6058966f-d9d0-406b-9cea-34fc282db31b"
   },
   "source": [
    "That climbed to 13.7GB!"
   ]
  },
  {
   "cell_type": "markdown",
   "id": "5a57dbe3-238c-4010-845f-44321fb84be1",
   "metadata": {
    "id": "5a57dbe3-238c-4010-845f-44321fb84be1"
   },
   "source": [
    "4GB Model + 8GB Optimizer + 4GB Gradients"
   ]
  },
  {
   "cell_type": "code",
   "execution_count": 26,
   "id": "afe768b0-a047-41d7-b2cc-e6a57ad5afe5",
   "metadata": {
    "id": "afe768b0-a047-41d7-b2cc-e6a57ad5afe5",
    "outputId": "2d4e8b23-ff93-4e24-ba9b-9640bf47bef5"
   },
   "outputs": [
    {
     "data": {
      "text/plain": [
       "4.399999999999999"
      ]
     },
     "execution_count": 26,
     "metadata": {},
     "output_type": "execute_result"
    }
   ],
   "source": [
    "24 - (4+8+4)*1.1 - 2 # remaining GPU (2GB used by kernels and display, 10% is overhead)"
   ]
  },
  {
   "cell_type": "code",
   "execution_count": 27,
   "id": "1c3a30fd-0f92-4d32-bafa-96f1cffb4db6",
   "metadata": {
    "id": "1c3a30fd-0f92-4d32-bafa-96f1cffb4db6",
    "outputId": "05117526-3059-4ff2-88a3-d10b19da4e25"
   },
   "outputs": [
    {
     "data": {
      "text/plain": [
       "4.399999999999999"
      ]
     },
     "execution_count": 27,
     "metadata": {},
     "output_type": "execute_result"
    }
   ],
   "source": [
    "24 - (4+8+4)*1.1 - 2 # remaining GPU (2GB used by kernels and display, 10% is overhead)"
   ]
  },
  {
   "cell_type": "code",
   "execution_count": 28,
   "id": "ed2a6736-2368-43ad-81ca-560fe797bd4b",
   "metadata": {
    "id": "ed2a6736-2368-43ad-81ca-560fe797bd4b",
    "outputId": "6e85e935-3141-4cd2-8e80-9c723d6e2463"
   },
   "outputs": [
    {
     "data": {
      "text/plain": [
       "1.7109375"
      ]
     },
     "execution_count": 28,
     "metadata": {},
     "output_type": "execute_result"
    }
   ],
   "source": [
    "BS = 24\n",
    "128 * BS * 2048 * 16 * (34 + (5*8*128)/2048) / 1024 / 1024 / 1024 / 2"
   ]
  },
  {
   "cell_type": "markdown",
   "id": "e74ca94b-f7c8-49b4-9b7e-e816dd8e6073",
   "metadata": {
    "id": "e74ca94b-f7c8-49b4-9b7e-e816dd8e6073"
   },
   "source": [
    "- BS 32 will not work with defaults\n",
    "\n",
    "per_device_train_batch_size=32\n",
    "\n",
    "\n",
    "- BS 24 works\n",
    "\n",
    "per_device_train_batch_size=34\n",
    "\n",
    "- BS 32 works with gradient checkpointing\n",
    "\n",
    "per_device_train_batch_size=32, gradient_checkpointing=True\n",
    "\n",
    "- BS 32 with GC and GA\n",
    "\n",
    "per_device_train_batch_size=32, gradient_accumulation_steps=4, gradient_checkpointing=True\n",
    "\n",
    "Effectively the BS becomes BS * GA = 32 * 4 = 128\n",
    "\n",
    "- BS 32 with FP16\n",
    "\n",
    "per_device_train_batch_size=32, fp16=True\n",
    "\n",
    "Activations are reduced by half! So we can push to BS=48 Now\n",
    "\n",
    "Also Training becomes much faster!"
   ]
  },
  {
   "cell_type": "code",
   "execution_count": 29,
   "id": "17c86398-3481-45ea-8ffe-88b561b7d78d",
   "metadata": {
    "id": "17c86398-3481-45ea-8ffe-88b561b7d78d",
    "outputId": "ef31397c-72c4-4bba-f040-2b306a7b62dc"
   },
   "outputs": [
    {
     "name": "stdout",
     "output_type": "stream",
     "text": [
      "Total parameters in the optimizer state: 2023563460\n"
     ]
    }
   ],
   "source": [
    "total_parameters = 0\n",
    "\n",
    "for param_group in trainer.optimizer.optimizer.state_dict()['state'].values():\n",
    "    for param_tensor in param_group.values():\n",
    "        total_parameters += param_tensor.numel()\n",
    "\n",
    "print(\"Total parameters in the optimizer state: {}\".format(total_parameters))\n"
   ]
  },
  {
   "cell_type": "code",
   "execution_count": 30,
   "id": "4de6e402-efb1-484a-876d-f63d92b94bdf",
   "metadata": {
    "id": "4de6e402-efb1-484a-876d-f63d92b94bdf"
   },
   "outputs": [],
   "source": [
    "torch.cuda.empty_cache()"
   ]
  },
  {
   "cell_type": "code",
   "execution_count": 31,
   "id": "900b367c-f491-40b8-b4be-8fc4f1f50ddd",
   "metadata": {
    "id": "900b367c-f491-40b8-b4be-8fc4f1f50ddd",
    "outputId": "f6371722-c35d-4e20-af30-3600902a8956"
   },
   "outputs": [
    {
     "name": "stdout",
     "output_type": "stream",
     "text": [
      "Time: 5.67\n",
      "Samples/second: 22.58\n",
      "GPU memory occupied: 29100 MB.\n"
     ]
    }
   ],
   "source": [
    "print_summary(result)"
   ]
  },
  {
   "cell_type": "code",
   "execution_count": 32,
   "id": "5b9e0a74-4a12-4f5e-b527-f90490672dfc",
   "metadata": {
    "id": "5b9e0a74-4a12-4f5e-b527-f90490672dfc",
    "outputId": "36369e7c-52c6-472e-9b71-519df3057b26"
   },
   "outputs": [
    {
     "data": {
      "text/plain": [
       "11681.18798828125"
      ]
     },
     "execution_count": 32,
     "metadata": {},
     "output_type": "execute_result"
    }
   ],
   "source": [
    "torch.cuda.memory_allocated() / 1024 / 1024"
   ]
  },
  {
   "cell_type": "markdown",
   "id": "7d0302a1-4c68-4f73-8840-d7398650ace0",
   "metadata": {
    "id": "7d0302a1-4c68-4f73-8840-d7398650ace0"
   },
   "source": [
    "Memory Profiler"
   ]
  },
  {
   "cell_type": "code",
   "execution_count": 33,
   "id": "90e320f3-8504-4566-9445-4923efc231ed",
   "metadata": {
    "id": "90e320f3-8504-4566-9445-4923efc231ed"
   },
   "outputs": [],
   "source": [
    "from torch.autograd.profiler import record_function\n",
    "from transformers import AutoModelForCausalLM, AutoTokenizer\n",
    "from transformers import TrainingArguments, Trainer\n",
    "import inspect\n",
    "import logging\n",
    "import torch\n",
    "import socket\n",
    "from datetime import datetime, timedelta\n",
    "import weakref\n",
    "from functools import wraps"
   ]
  },
  {
   "cell_type": "code",
   "execution_count": 34,
   "id": "77e1a181-6100-4b30-aa26-b098187fd98a",
   "metadata": {
    "id": "77e1a181-6100-4b30-aa26-b098187fd98a"
   },
   "outputs": [
    {
     "name": "stderr",
     "output_type": "stream",
     "text": [
      "INFO:2024-04-08 14:42:43 We will use 90% of the memory on device 0 for storing the model, and 10% for the buffer to avoid OOM. You can set `max_memory` in to a higher value to use more memory (at your own risk).\n"
     ]
    }
   ],
   "source": [
    "model = AutoModelForCausalLM.from_pretrained(\n",
    "    \"EleutherAI/pythia-1b\",\n",
    "    device_map=\"auto\"\n",
    ")"
   ]
  },
  {
   "cell_type": "code",
   "execution_count": 35,
   "id": "cf925be2-33e1-4fb6-9984-ee1d915c9dad",
   "metadata": {
    "id": "cf925be2-33e1-4fb6-9984-ee1d915c9dad"
   },
   "outputs": [],
   "source": [
    "logging.basicConfig(\n",
    "   format=\"%(levelname)s:%(asctime)s %(message)s\",\n",
    "   level=logging.INFO,\n",
    "   datefmt=\"%Y-%m-%d %H:%M:%S\",\n",
    ")\n",
    "logger: logging.Logger = logging.getLogger(__name__)\n",
    "logger.setLevel(level=logging.INFO)\n",
    "\n",
    "TIME_FORMAT_STR: str = \"%b_%d_%H_%M_%S\""
   ]
  },
  {
   "cell_type": "code",
   "execution_count": 36,
   "id": "e3ff1cfc-d84f-4f19-996d-c6b55b7799fc",
   "metadata": {
    "id": "e3ff1cfc-d84f-4f19-996d-c6b55b7799fc"
   },
   "outputs": [],
   "source": [
    "def trace_handler(prof: torch.profiler.profile):\n",
    "   # Prefix for file names.\n",
    "   host_name = socket.gethostname()\n",
    "   timestamp = datetime.now().strftime(TIME_FORMAT_STR)\n",
    "   file_prefix = f\"{host_name}_{timestamp}\"\n",
    "\n",
    "   # Construct the trace file.\n",
    "   prof.export_chrome_trace(f\"{file_prefix}.json.gz\")\n",
    "\n",
    "   # Construct the memory timeline file.\n",
    "   prof.export_memory_timeline(f\"{file_prefix}.html\", device=\"cuda:0\")\n"
   ]
  },
  {
   "cell_type": "code",
   "execution_count": 37,
   "id": "1b3a07f3-db1b-44dd-82f6-d58f88c5359e",
   "metadata": {
    "id": "1b3a07f3-db1b-44dd-82f6-d58f88c5359e"
   },
   "outputs": [],
   "source": [
    "import numpy as np\n",
    "from datasets import Dataset\n",
    "\n",
    "\n",
    "seq_len, dataset_size = 128, 128\n",
    "dummy_data = {\n",
    "    \"input_ids\": np.random.randint(1, 30000, (dataset_size, seq_len)),\n",
    "    \"labels\": np.random.randint(1, 30000, (dataset_size, seq_len)),\n",
    "}\n",
    "ds = Dataset.from_dict(dummy_data)\n",
    "ds.set_format(\"pt\")"
   ]
  },
  {
   "cell_type": "code",
   "execution_count": 38,
   "id": "2a4fa07d-610b-4e6b-b82d-6819eae84eb4",
   "metadata": {
    "id": "2a4fa07d-610b-4e6b-b82d-6819eae84eb4"
   },
   "outputs": [],
   "source": [
    "default_args = {\n",
    "    \"output_dir\": \"tmp\",\n",
    "    \"evaluation_strategy\": \"steps\",\n",
    "    \"num_train_epochs\": 1,\n",
    "    \"log_level\": \"error\",\n",
    "    \"report_to\": \"none\",\n",
    "    \"dataloader_pin_memory\": False,\n",
    "    \"optim\": \"adamw_torch\"\n",
    "}"
   ]
  },
  {
   "cell_type": "code",
   "execution_count": 39,
   "id": "932531ad-74a6-46d4-ad4a-e260db7de20f",
   "metadata": {
    "id": "932531ad-74a6-46d4-ad4a-e260db7de20f",
    "outputId": "40745fee-90e2-4d22-f89a-393cd2214931"
   },
   "outputs": [
    {
     "data": {
      "text/plain": [
       "GPTNeoXForCausalLM(\n",
       "  (gpt_neox): GPTNeoXModel(\n",
       "    (embed_in): Embedding(50304, 2048)\n",
       "    (emb_dropout): Dropout(p=0.0, inplace=False)\n",
       "    (layers): ModuleList(\n",
       "      (0-15): 16 x GPTNeoXLayer(\n",
       "        (input_layernorm): LayerNorm((2048,), eps=1e-05, elementwise_affine=True)\n",
       "        (post_attention_layernorm): LayerNorm((2048,), eps=1e-05, elementwise_affine=True)\n",
       "        (post_attention_dropout): Dropout(p=0.0, inplace=False)\n",
       "        (post_mlp_dropout): Dropout(p=0.0, inplace=False)\n",
       "        (attention): GPTNeoXAttention(\n",
       "          (rotary_emb): GPTNeoXRotaryEmbedding()\n",
       "          (query_key_value): Linear(in_features=2048, out_features=6144, bias=True)\n",
       "          (dense): Linear(in_features=2048, out_features=2048, bias=True)\n",
       "          (attention_dropout): Dropout(p=0.0, inplace=False)\n",
       "        )\n",
       "        (mlp): GPTNeoXMLP(\n",
       "          (dense_h_to_4h): Linear(in_features=2048, out_features=8192, bias=True)\n",
       "          (dense_4h_to_h): Linear(in_features=8192, out_features=2048, bias=True)\n",
       "          (act): GELUActivation()\n",
       "        )\n",
       "      )\n",
       "    )\n",
       "    (final_layer_norm): LayerNorm((2048,), eps=1e-05, elementwise_affine=True)\n",
       "  )\n",
       "  (embed_out): Linear(in_features=2048, out_features=50304, bias=False)\n",
       ")"
      ]
     },
     "execution_count": 39,
     "metadata": {},
     "output_type": "execute_result"
    }
   ],
   "source": [
    "model.train()"
   ]
  },
  {
   "cell_type": "code",
   "execution_count": 40,
   "id": "f1d43e74-56e9-4334-a0eb-f2c917f9a290",
   "metadata": {
    "id": "f1d43e74-56e9-4334-a0eb-f2c917f9a290"
   },
   "outputs": [
    {
     "name": "stderr",
     "output_type": "stream",
     "text": [
      "/usr/local/lib/python3.10/dist-packages/accelerate/accelerator.py:436: FutureWarning: Passing the following arguments to `Accelerator` is deprecated and will be removed in version 1.0 of Accelerate: dict_keys(['dispatch_batches', 'split_batches', 'even_batches', 'use_seedable_sampler']). Please pass an `accelerate.DataLoaderConfiguration` instead: \n",
      "dataloader_config = DataLoaderConfiguration(dispatch_batches=None, split_batches=False, even_batches=True, use_seedable_sampler=True)\n",
      "  warnings.warn(\n",
      "WARNING:2024-04-08 14:42:45 Detected kernel version 5.4.0, which is below the recommended minimum of 5.5.0; this can cause the process to hang. It is recommended to upgrade the kernel to the minimum version or higher.\n"
     ]
    }
   ],
   "source": [
    "training_args = TrainingArguments(per_device_train_batch_size=24, fp16=False, **default_args)\n",
    "trainer = Trainer(model=model, args=training_args, train_dataset=ds)"
   ]
  },
  {
   "cell_type": "code",
   "execution_count": 41,
   "id": "286f4bc5-7fb4-4070-a8d1-dbc0f723e15f",
   "metadata": {
    "id": "286f4bc5-7fb4-4070-a8d1-dbc0f723e15f"
   },
   "outputs": [],
   "source": [
    "# # Original forward pass methoda\n",
    "# original_forward = model.forward\n",
    "\n",
    "# # New forward pass method with record_function\n",
    "# def new_forward(*args, **kwargs):\n",
    "#     print(args, \"\\n\", kwargs)\n",
    "#     with record_function(\"## forward ##\"):\n",
    "#         return original_forward(*args, **kwargs)\n",
    "\n",
    "# # Patch the model's forward method\n",
    "# model.forward = new_forward\n",
    "\n",
    "# Patch the accelerator's backward method\n",
    "original_backward = trainer.accelerator.backward\n",
    "\n",
    "def new_backward(*args, **kwargs):\n",
    "    with record_function(\"## backward ##\"):\n",
    "        return original_backward(*args, **kwargs)\n",
    "\n",
    "trainer.accelerator.backward = new_backward\n",
    "\n",
    "# Patch the optimizer's step method\n",
    "optimizer = trainer.create_optimizer()\n",
    "original_step = optimizer.step\n",
    "\n",
    "def new_step(*args, **kwargs):\n",
    "    with record_function(\"## optimizer step ##\"):\n",
    "        return original_step(*args, **kwargs)\n",
    "\n",
    "new_step.__func__ = original_step.__func__\n",
    "new_step.__self__ = original_step.__self__\n",
    "optimizer.step = new_step"
   ]
  },
  {
   "cell_type": "code",
   "execution_count": 42,
   "id": "98344a3a-cea5-4c9c-98e9-06a5e6ee5e8c",
   "metadata": {
    "id": "98344a3a-cea5-4c9c-98e9-06a5e6ee5e8c",
    "outputId": "f43782dd-1dc4-4701-85a3-ca2d851c9e5d"
   },
   "outputs": [
    {
     "name": "stderr",
     "output_type": "stream",
     "text": [
      "/usr/local/lib/python3.10/dist-packages/torch/profiler/profiler.py:339: UserWarning: Profiler won't be using warmup, this can skew profiler results\n",
      "  warn(\"Profiler won't be using warmup, this can skew profiler results\")\n",
      "STAGE:2024-04-08 14:42:45 1177:1177 ActivityProfilerController.cpp:312] Completed Stage: Warm Up\n"
     ]
    },
    {
     "name": "stdout",
     "output_type": "stream",
     "text": [
      "{'train_runtime': 5.6621, 'train_samples_per_second': 22.607, 'train_steps_per_second': 1.06, 'train_loss': 11.262858072916666, 'epoch': 1.0}\n"
     ]
    },
    {
     "name": "stderr",
     "output_type": "stream",
     "text": [
      "STAGE:2024-04-08 14:42:51 1177:1177 ActivityProfilerController.cpp:318] Completed Stage: Collection\n",
      "STAGE:2024-04-08 14:42:51 1177:1177 ActivityProfilerController.cpp:322] Completed Stage: Post Processing\n",
      "INFO:2024-04-08 14:43:26 generated new fontManager\n"
     ]
    },
    {
     "data": {
      "image/png": "[encoded data removed]",
      "text/plain": [
       "<Figure size 1600x960 with 1 Axes>"
      ]
     },
     "metadata": {},
     "output_type": "display_data"
    }
   ],
   "source": [
    "with torch.profiler.profile(\n",
    "       activities=[\n",
    "           torch.profiler.ProfilerActivity.CPU,\n",
    "           torch.profiler.ProfilerActivity.CUDA,\n",
    "       ],\n",
    "       schedule=torch.profiler.schedule(wait=0, warmup=0, active=6, repeat=1),\n",
    "       record_shapes=True,\n",
    "       profile_memory=True,\n",
    "       with_stack=True,\n",
    "       on_trace_ready=trace_handler,\n",
    "   ) as prof:\n",
    "    result = trainer.train()"
   ]
  },
  {
   "cell_type": "code",
   "execution_count": null,
   "id": "69f25ad9-8046-4120-b17b-1fdaaf408699",
   "metadata": {
    "id": "69f25ad9-8046-4120-b17b-1fdaaf408699"
   },
   "outputs": [],
   "source": []
  },
  {
   "cell_type": "code",
   "execution_count": null,
   "id": "576af048-1327-4ad9-8ea5-8978bae4114c",
   "metadata": {
    "id": "576af048-1327-4ad9-8ea5-8978bae4114c"
   },
   "outputs": [],
   "source": []
  },
  {
   "cell_type": "code",
   "execution_count": null,
   "id": "1013de4b-af0e-4237-878e-e965b13a3fe3",
   "metadata": {
    "id": "1013de4b-af0e-4237-878e-e965b13a3fe3"
   },
   "outputs": [],
   "source": []
  },
  {
   "cell_type": "code",
   "execution_count": null,
   "id": "56640309-6074-40f4-bbb5-b01fa3a26378",
   "metadata": {
    "id": "56640309-6074-40f4-bbb5-b01fa3a26378"
   },
   "outputs": [],
   "source": []
  },
  {
   "cell_type": "code",
   "execution_count": null,
   "id": "7c14b175-33d7-425a-908f-bfb2c630f647",
   "metadata": {
    "id": "7c14b175-33d7-425a-908f-bfb2c630f647"
   },
   "outputs": [],
   "source": []
  },
  {
   "cell_type": "code",
   "execution_count": 43,
   "id": "59dde0bd-459e-4052-820c-fac11b6df98c",
   "metadata": {
    "id": "59dde0bd-459e-4052-820c-fac11b6df98c",
    "outputId": "b8c38a2c-a2a6-4a64-cc20-6eb55666b9ef"
   },
   "outputs": [
    {
     "name": "stdout",
     "output_type": "stream",
     "text": [
      "|===========================================================================|\n",
      "|                  PyTorch CUDA memory summary, device ID 0                 |\n",
      "|---------------------------------------------------------------------------|\n",
      "|            CUDA OOMs: 0            |        cudaMalloc retries: 0         |\n",
      "|===========================================================================|\n",
      "|        Metric         | Cur Usage  | Peak Usage | Tot Alloc  | Tot Freed  |\n",
      "|---------------------------------------------------------------------------|\n",
      "| Allocated memory      |  15622 MiB |  24537 MiB | 468961 MiB | 453338 MiB |\n",
      "|       from large pool |  15584 MiB |  24497 MiB | 467962 MiB | 452378 MiB |\n",
      "|       from small pool |     38 MiB |     41 MiB |    998 MiB |    960 MiB |\n",
      "|---------------------------------------------------------------------------|\n",
      "| Active memory         |  15622 MiB |  24537 MiB | 468961 MiB | 453338 MiB |\n",
      "|       from large pool |  15584 MiB |  24497 MiB | 467962 MiB | 452378 MiB |\n",
      "|       from small pool |     38 MiB |     41 MiB |    998 MiB |    960 MiB |\n",
      "|---------------------------------------------------------------------------|\n",
      "| Requested memory      |  15614 MiB |  24527 MiB | 468235 MiB | 452620 MiB |\n",
      "|       from large pool |  15576 MiB |  24487 MiB | 467236 MiB | 451660 MiB |\n",
      "|       from small pool |     38 MiB |     41 MiB |    998 MiB |    959 MiB |\n",
      "|---------------------------------------------------------------------------|\n",
      "| GPU reserved memory   |  28166 MiB |  28166 MiB |  45934 MiB |  17768 MiB |\n",
      "|       from large pool |  28124 MiB |  28124 MiB |  45888 MiB |  17764 MiB |\n",
      "|       from small pool |     42 MiB |     42 MiB |     46 MiB |      4 MiB |\n",
      "|---------------------------------------------------------------------------|\n",
      "| Non-releasable memory |   2291 MiB |   2744 MiB | 158805 MiB | 156514 MiB |\n",
      "|       from large pool |   2287 MiB |   2743 MiB | 157797 MiB | 155510 MiB |\n",
      "|       from small pool |      3 MiB |      4 MiB |   1008 MiB |   1004 MiB |\n",
      "|---------------------------------------------------------------------------|\n",
      "| Allocations           |     949    |    1280    |   22423    |   21474    |\n",
      "|       from large pool |     298    |     479    |   14906    |   14608    |\n",
      "|       from small pool |     651    |     916    |    7517    |    6866    |\n",
      "|---------------------------------------------------------------------------|\n",
      "| Active allocs         |     949    |    1280    |   22423    |   21474    |\n",
      "|       from large pool |     298    |     479    |   14906    |   14608    |\n",
      "|       from small pool |     651    |     916    |    7517    |    6866    |\n",
      "|---------------------------------------------------------------------------|\n",
      "| GPU reserved segments |     416    |     416    |     718    |     302    |\n",
      "|       from large pool |     395    |     395    |     695    |     300    |\n",
      "|       from small pool |      21    |      21    |      23    |       2    |\n",
      "|---------------------------------------------------------------------------|\n",
      "| Non-releasable allocs |      70    |     118    |    7663    |    7593    |\n",
      "|       from large pool |      59    |     105    |    5411    |    5352    |\n",
      "|       from small pool |      11    |      17    |    2252    |    2241    |\n",
      "|---------------------------------------------------------------------------|\n",
      "| Oversize allocations  |       0    |       0    |       0    |       0    |\n",
      "|---------------------------------------------------------------------------|\n",
      "| Oversize GPU segments |       0    |       0    |       0    |       0    |\n",
      "|===========================================================================|\n",
      "\n"
     ]
    }
   ],
   "source": [
    "import torch\n",
    "\n",
    "# Call this function after running your model on the GPU\n",
    "print(torch.cuda.memory_summary(device=None, abbreviated=False))\n"
   ]
  },
  {
   "cell_type": "code",
   "execution_count": null,
   "id": "98b00724-22ae-4887-9a7c-d4c1c703b80d",
   "metadata": {
    "id": "98b00724-22ae-4887-9a7c-d4c1c703b80d"
   },
   "outputs": [],
   "source": []
  }
 ],
 "metadata": {
  "colab": {
   "provenance": []
  },
  "kernelspec": {
   "display_name": "Python 3 (ipykernel)",
   "language": "python",
   "name": "python3"
  },
  "language_info": {
   "codemirror_mode": {
    "name": "ipython",
    "version": 3
   },
   "file_extension": ".py",
   "mimetype": "text/x-python",
   "name": "python",
   "nbconvert_exporter": "python",
   "pygments_lexer": "ipython3",
   "version": "3.10.12"
  }
 },
 "nbformat": 4,
 "nbformat_minor": 5
}
